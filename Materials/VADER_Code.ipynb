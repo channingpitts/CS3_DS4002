{
  "cells": [
    {
      "cell_type": "markdown",
      "metadata": {
        "colab_type": "text",
        "id": "view-in-github"
      },
      "source": [
        "<a href=\"https://colab.research.google.com/github/juliamuratore/Project1-DS-4002/blob/main/Project_1_VADER.ipynb\" target=\"_parent\"><img src=\"https://colab.research.google.com/assets/colab-badge.svg\" alt=\"Open In Colab\"/></a>"
      ]
    },
    {
      "cell_type": "markdown",
      "metadata": {},
      "source": [
        "# VADER Analysis \n",
        "The following script should provide a starting point to perform your VADER analysis and does not include any EDA or cleaning of the data. Analyzing the columns, decide what you would like to clean / drop / add, and use that for your sentiment analysis of Simone Biles. Once this runs smoothly, then update your code to run sentiment analysis for Jonathan Owens."
      ]
    },
    {
      "cell_type": "code",
      "execution_count": null,
      "metadata": {
        "id": "Yw7p4aRX0M95"
      },
      "outputs": [],
      "source": [
        "# importing necessary packages\n",
        "import pandas as pd\n",
        "import numpy as np\n",
        "import matplotlib.pyplot as plt"
      ]
    },
    {
      "cell_type": "code",
      "execution_count": null,
      "metadata": {
        "id": "Xm0951uh0ZQW"
      },
      "outputs": [],
      "source": [
        "# naming data frames\n",
        "jo = pd.read_csv('../DATA/jo.csv')\n",
        "sb = pd.read_csv('../DATA/sb.csv')"
      ]
    },
    {
      "cell_type": "markdown",
      "metadata": {
        "id": "lJ7kvZKqnkkW"
      },
      "source": [
        "#VADER Sentiment Analysis"
      ]
    },
    {
      "cell_type": "code",
      "execution_count": null,
      "metadata": {
        "colab": {
          "base_uri": "https://localhost:8080/"
        },
        "id": "hsbJhcOwne_Z",
        "outputId": "53a8824e-aa71-473a-9632-ff672f75962d"
      },
      "outputs": [],
      "source": [
        "# installing analysis package\n",
        "!pip install vaderSentiment"
      ]
    },
    {
      "cell_type": "code",
      "execution_count": null,
      "metadata": {
        "id": "MGwAsS2NnoId"
      },
      "outputs": [],
      "source": [
        "from vaderSentiment.vaderSentiment import SentimentIntensityAnalyzer"
      ]
    },
    {
      "cell_type": "markdown",
      "metadata": {
        "id": "ytTzVHaZpcUb"
      },
      "source": [
        "# Simone Biles"
      ]
    },
    {
      "cell_type": "code",
      "execution_count": null,
      "metadata": {
        "colab": {
          "base_uri": "https://localhost:8080/"
        },
        "id": "xi_lFLAholU8",
        "outputId": "066075da-a19a-4257-e990-3e4751bc477b"
      },
      "outputs": [],
      "source": [
        "# Create an instance of the VADER sentiment analyzer\n",
        "analyzer = SentimentIntensityAnalyzer()\n",
        "\n",
        "# Define a function to perform sentiment analysis using VADER\n",
        "def get_sentiment(tokens):\n",
        "    sentiment = analyzer.polarity_scores(tokens)\n",
        "    compound_score = sentiment['compound']\n",
        "    return compound_score\n",
        "\n",
        "# Apply the function to the 'tokens' column of the DataFrame\n",
        "clean_sb['sentiment'] = clean_sb['Comment Text'].apply(get_sentiment)\n",
        "\n",
        "# Print the DataFrame with sentiment scores\n",
        "print(clean_sb['sentiment'])"
      ]
    },
    {
      "cell_type": "code",
      "execution_count": null,
      "metadata": {},
      "outputs": [],
      "source": [
        "# create positive, neutral, negative columns \n",
        "clean_sb['sent'] = np.where(clean_sb['sentiment'] > 0.05, \"Positive\",\n",
        "                            np.where(clean_sb['sentiment'] < -0.05, \"Negative\", \"Neutral\"))\n",
        "clean_sb.sent.value_counts()"
      ]
    },
    {
      "cell_type": "code",
      "execution_count": null,
      "metadata": {
        "colab": {
          "base_uri": "https://localhost:8080/",
          "height": 526
        },
        "id": "DgJuvX9OpeWe",
        "outputId": "ba9874f1-2c4b-4ba4-e536-ae407bd5a9ef"
      },
      "outputs": [],
      "source": [
        "# Count the occurrences of each sentiment\n",
        "sentiment_counts = clean_sb['sent'].value_counts()\n",
        "\n",
        "# Plot the sentiments\n",
        "plt.bar(sentiment_counts.index, sentiment_counts.values, color =\"#e2ff75\")\n",
        "plt.xlabel('Sentiment')\n",
        "plt.ylabel('Count')\n",
        "plt.title('Sentiment Analysis on Simone Biles')\n",
        "plt.ylim([0, 375])\n",
        "plt.savefig('../OUTPUT/Simone_Biles_Sentiment_Analysis.png')\n",
        "plt.show()\n",
        "\n",
        "\n",
        "# Print the number of counts for each sentiment\n",
        "for sentiment, count in sentiment_counts.items():\n",
        "    print(f\"{sentiment}: {count}\")\n"
      ]
    }
  ],
  "metadata": {
    "colab": {
      "authorship_tag": "ABX9TyMltrk0haNI8gQ91LXHxIBT",
      "include_colab_link": true,
      "provenance": []
    },
    "kernelspec": {
      "display_name": "Python 3",
      "name": "python3"
    },
    "language_info": {
      "codemirror_mode": {
        "name": "ipython",
        "version": 3
      },
      "file_extension": ".py",
      "mimetype": "text/x-python",
      "name": "python",
      "nbconvert_exporter": "python",
      "pygments_lexer": "ipython3",
      "version": "3.11.4"
    }
  },
  "nbformat": 4,
  "nbformat_minor": 0
}
